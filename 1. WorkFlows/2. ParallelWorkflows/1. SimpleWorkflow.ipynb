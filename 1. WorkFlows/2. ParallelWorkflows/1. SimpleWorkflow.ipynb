{
 "cells": [
  {
   "cell_type": "code",
   "execution_count": 17,
   "id": "32b89639",
   "metadata": {},
   "outputs": [],
   "source": [
    "from langgraph.graph import START,END,StateGraph\n",
    "from typing import TypedDict"
   ]
  },
  {
   "cell_type": "code",
   "execution_count": 18,
   "id": "2942335e",
   "metadata": {},
   "outputs": [],
   "source": [
    "class BatsmanState(TypedDict):\n",
    "    runs:int\n",
    "    balls:int\n",
    "    fours:int\n",
    "    sixes:int\n",
    "\n",
    "    strikerate:float\n",
    "    balls_per_boundary:float\n",
    "    boundary_percentage:float\n",
    "\n",
    "    summary:str"
   ]
  },
  {
   "cell_type": "code",
   "execution_count": 19,
   "id": "be644119",
   "metadata": {},
   "outputs": [],
   "source": [
    "def calculate_sr(state:BatsmanState)->BatsmanState:\n",
    "    sr=(state['runs']/state['balls'])*100\n",
    "    return {\"strikerate\":sr}\n",
    "def calculate_bpb(state:BatsmanState)->BatsmanState:\n",
    "    bpb=(state['balls']/(state['fours']+state['sixes']))\n",
    "    return {'balls_per_boundary':bpb}\n",
    "def calculate_bp(state:BatsmanState)->BatsmanState:\n",
    "    bp=((state['fours']+state['sixes'])/state['balls'])*100\n",
    "    return {\"boundary_percentage\":bp}\n",
    "def make_summary(state:BatsmanState)->BatsmanState:\n",
    "    state['summary']=f\"\"\"\n",
    "Strike Rate: {state['strikerate']}%\n",
    "Balls per Boundary: {state['balls_per_boundary']} balls\n",
    "Boundary Percentage: {state['boundary_percentage']}%\n",
    "\"\"\"\n",
    "    return state"
   ]
  },
  {
   "cell_type": "code",
   "execution_count": 20,
   "id": "3b29f235",
   "metadata": {},
   "outputs": [
    {
     "data": {
      "text/plain": [
       "<langgraph.graph.state.StateGraph at 0x187a7404cd0>"
      ]
     },
     "execution_count": 20,
     "metadata": {},
     "output_type": "execute_result"
    }
   ],
   "source": [
    "graph=StateGraph(BatsmanState)\n",
    "graph.add_node(\"calculate_sr\",calculate_sr)\n",
    "graph.add_node(\"calculate_bpb\",calculate_bpb)\n",
    "graph.add_node(\"calculate_bp\",calculate_bp)\n",
    "graph.add_node(\"make_summary\",make_summary)"
   ]
  },
  {
   "cell_type": "code",
   "execution_count": 21,
   "id": "7b3432c1",
   "metadata": {},
   "outputs": [],
   "source": [
    "graph.add_edge(START,'calculate_sr')\n",
    "graph.add_edge(START,'calculate_bpb')\n",
    "graph.add_edge(START,'calculate_bp')\n",
    "graph.add_edge('calculate_sr',\"make_summary\")\n",
    "graph.add_edge('calculate_bpb',\"make_summary\")\n",
    "graph.add_edge('calculate_bp',\"make_summary\")\n",
    "graph.add_edge(\"make_summary\",END)\n",
    "workflow=graph.compile()"
   ]
  },
  {
   "cell_type": "code",
   "execution_count": 22,
   "id": "094e7a8c",
   "metadata": {},
   "outputs": [
    {
     "data": {
      "image/png": "[encoded data removed]",
      "text/plain": [
       "<IPython.core.display.Image object>"
      ]
     },
     "execution_count": 22,
     "metadata": {},
     "output_type": "execute_result"
    }
   ],
   "source": [
    "from IPython.display import Image\n",
    "Image(workflow.get_graph().draw_mermaid_png())"
   ]
  },
  {
   "cell_type": "code",
   "execution_count": 23,
   "id": "08a7c859",
   "metadata": {},
   "outputs": [
    {
     "name": "stdout",
     "output_type": "stream",
     "text": [
      "{'runs': 100, 'balls': 50, 'fours': 6, 'sixes': 4, 'strikerate': 200.0, 'balls_per_boundary': 5.0, 'boundary_percentage': 20.0, 'summary': '\\nStrike Rate: 200.0%\\nBalls per Boundary: 5.0 balls\\nBoundary Percentage: 20.0%\\n'}\n"
     ]
    }
   ],
   "source": [
    "initial_state={\n",
    "    \"runs\":100,\n",
    "    \"balls\":50,\n",
    "    \"fours\":6,\n",
    "    \"sixes\":4\n",
    "}\n",
    "final_state=workflow.invoke(initial_state)\n",
    "print(final_state)"
   ]
  },
  {
   "cell_type": "code",
   "execution_count": 24,
   "id": "fdfa052c",
   "metadata": {},
   "outputs": [
    {
     "name": "stdout",
     "output_type": "stream",
     "text": [
      "\n",
      "Strike Rate: 200.0%\n",
      "Balls per Boundary: 5.0 balls\n",
      "Boundary Percentage: 20.0%\n",
      "\n"
     ]
    }
   ],
   "source": [
    "print(final_state['summary'])"
   ]
  }
 ],
 "metadata": {
  "kernelspec": {
   "display_name": "venv",
   "language": "python",
   "name": "python3"
  },
  "language_info": {
   "codemirror_mode": {
    "name": "ipython",
    "version": 3
   },
   "file_extension": ".py",
   "mimetype": "text/x-python",
   "name": "python",
   "nbconvert_exporter": "python",
   "pygments_lexer": "ipython3",
   "version": "3.13.5"
  }
 },
 "nbformat": 4,
 "nbformat_minor": 5
}
