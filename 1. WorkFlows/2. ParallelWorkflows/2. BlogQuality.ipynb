{
 "cells": [
  {
   "cell_type": "markdown",
   "id": "8c98dfaf",
   "metadata": {},
   "source": [
    "### Imporitng Libraries"
   ]
  },
  {
   "cell_type": "code",
   "execution_count": 1,
   "id": "9b641340",
   "metadata": {},
   "outputs": [],
   "source": [
    "from langchain_openai import ChatOpenAI\n",
    "from langgraph.graph import StateGraph,START,END\n",
    "from dotenv import load_dotenv\n",
    "from typing import Annotated,TypedDict\n",
    "import operator\n",
    "from pydantic import BaseModel, Field\n",
    "from langchain.prompts import PromptTemplate"
   ]
  },
  {
   "cell_type": "markdown",
   "id": "2e7554cf",
   "metadata": {},
   "source": [
    "### Loading Environment & Initializing Model"
   ]
  },
  {
   "cell_type": "code",
   "execution_count": 2,
   "id": "6d8b3500",
   "metadata": {},
   "outputs": [],
   "source": [
    "load_dotenv()\n",
    "model=ChatOpenAI(model=\"gpt-4o-mini\")"
   ]
  },
  {
   "cell_type": "markdown",
   "id": "e642f7b9",
   "metadata": {},
   "source": [
    "### Pydantic Model for Structured Output"
   ]
  },
  {
   "cell_type": "code",
   "execution_count": 3,
   "id": "5897a820",
   "metadata": {},
   "outputs": [],
   "source": [
    "class EvaluateSchema(BaseModel):\n",
    "    feedback:Annotated[str,Field(description=\"Detailed Feedback of blog\")]\n",
    "    score:Annotated[int,Field(description=\"This is the score out of 10\",gt=0,le=10)]"
   ]
  },
  {
   "cell_type": "code",
   "execution_count": 4,
   "id": "67b49ef2",
   "metadata": {},
   "outputs": [],
   "source": [
    "StructuredModel=model.with_structured_output(EvaluateSchema)"
   ]
  },
  {
   "cell_type": "markdown",
   "id": "df411bd0",
   "metadata": {},
   "source": [
    "### Defining the Blog Evaluation State"
   ]
  },
  {
   "cell_type": "code",
   "execution_count": 5,
   "id": "9e98e74e",
   "metadata": {},
   "outputs": [],
   "source": [
    "class BlogEvaluationState(TypedDict):\n",
    "    blog:str\n",
    "\n",
    "    clarity_structure_feedback:str\n",
    "    engagement_value_feedback:str\n",
    "    credibility_depth_feedback:str\n",
    "    overall_feedback:str\n",
    "\n",
    "    individual_score:Annotated[list[int],operator.add]\n",
    "    final_score:float"
   ]
  },
  {
   "cell_type": "code",
   "execution_count": 6,
   "id": "18b2ed77",
   "metadata": {},
   "outputs": [],
   "source": [
    "graph=StateGraph(BlogEvaluationState)"
   ]
  },
  {
   "cell_type": "markdown",
   "id": "40deb16b",
   "metadata": {},
   "source": [
    "### Node 1 for Clarity and Structure Feedback"
   ]
  },
  {
   "cell_type": "code",
   "execution_count": 7,
   "id": "31f3ab6b",
   "metadata": {},
   "outputs": [
    {
     "data": {
      "text/plain": [
       "<langgraph.graph.state.StateGraph at 0x1b85b92eba0>"
      ]
     },
     "execution_count": 7,
     "metadata": {},
     "output_type": "execute_result"
    }
   ],
   "source": [
    "def gen_clarity_structure_feedback(state:BlogEvaluationState)->BlogEvaluationState:\n",
    "    blog=state[\"blog\"]\n",
    "    template=PromptTemplate(\n",
    "        template=\"\"\"You have to act as a professional Content Reviewer. You will be given the blog and you have to check only for the clarity and structure of the blog.\n",
    "        You have to check Following thing to ensure Clarity and Structure.\n",
    "        1. A compelling headline\n",
    "        2. Clear introduction, body, and conclusion\n",
    "        3. Well-organized sections\n",
    "    Based on that you have to give appropraite feedback and score between 1 to 10. The blog is given below:\n",
    "    Blog: {blog}\n",
    "    \"\"\",\n",
    "    input_variables=[\"blog\"]\n",
    "    )\n",
    "    prompt=template.invoke({\"blog\":blog})\n",
    "    response=StructuredModel.invoke(prompt)\n",
    "    return {\n",
    "        \"clarity_structure_feedback\":response.feedback,\n",
    "        \"individual_score\":[response.score]\n",
    "    }\n",
    "graph.add_node(\"gen_clarity_structure_feedback\",gen_clarity_structure_feedback)"
   ]
  },
  {
   "cell_type": "markdown",
   "id": "51088bc1",
   "metadata": {},
   "source": [
    "### Node 2 for Engagement and Value Feedback"
   ]
  },
  {
   "cell_type": "code",
   "execution_count": 8,
   "id": "645f9c85",
   "metadata": {},
   "outputs": [
    {
     "data": {
      "text/plain": [
       "<langgraph.graph.state.StateGraph at 0x1b85b92eba0>"
      ]
     },
     "execution_count": 8,
     "metadata": {},
     "output_type": "execute_result"
    }
   ],
   "source": [
    "def gen_engagement_value_feedback(state:BlogEvaluationState)->BlogEvaluationState:\n",
    "    blog=state[\"blog\"]\n",
    "    template=PromptTemplate(\n",
    "        template=\"\"\"You have to act as a professional Content Reviewer. You will be given the blog and you have to check only for the Engagement and Value of the blog.\n",
    "        You have to check Following thing to ensure Engagement and Value. \n",
    "        1. Solves a problem, answers a question, or offers a fresh perspective\n",
    "        2. Uses examples, or storytelling to maintain engagement\n",
    "        3. Has a conversational or audience-appropriate tone\n",
    "    Based on that you have to give appropraite feedback and score between 1 to 10. The blog is given below:\n",
    "    Blog: {blog}\n",
    "    \"\"\",\n",
    "    input_variables=[\"blog\"]\n",
    "    )\n",
    "    prompt=template.invoke({\"blog\":blog})\n",
    "    response=StructuredModel.invoke(prompt)\n",
    "    return {\n",
    "        \"engagement_value_feedback\":response.feedback,\n",
    "        \"individual_score\":[response.score]\n",
    "    }\n",
    "graph.add_node(\"gen_engagement_value_feedback\",gen_engagement_value_feedback)"
   ]
  },
  {
   "cell_type": "markdown",
   "id": "d65fa5f7",
   "metadata": {},
   "source": [
    "### Node 3 for Credibility and Depth Feedback"
   ]
  },
  {
   "cell_type": "code",
   "execution_count": 9,
   "id": "0802a0eb",
   "metadata": {},
   "outputs": [
    {
     "data": {
      "text/plain": [
       "<langgraph.graph.state.StateGraph at 0x1b85b92eba0>"
      ]
     },
     "execution_count": 9,
     "metadata": {},
     "output_type": "execute_result"
    }
   ],
   "source": [
    "def gen_credibility_depth_feedback(state:BlogEvaluationState)->BlogEvaluationState:\n",
    "    blog=state[\"blog\"]\n",
    "    template=PromptTemplate(\n",
    "        template=\"\"\"You have to act as a professional Content Reviewer. You will be given the blog and you have to check only for the Credability and Depth of the blog.\n",
    "        You have to check Following thing to ensure Credibility and Depth.\n",
    "        1. Includes accurate information or data\n",
    "        2. Shows depth of understanding, not just surface-level content\n",
    "    Based on that you have to give appropraite feedback and score between 1 to 10. The blog is given below:\n",
    "    Blog: {blog}\n",
    "    \"\"\",\n",
    "    input_variables=[\"blog\"]\n",
    "    )\n",
    "    prompt=template.invoke({\"blog\":blog})\n",
    "    response=StructuredModel.invoke(prompt)\n",
    "    return {\n",
    "        \"credibility_depth_feedback\":response.feedback,\n",
    "        \"individual_score\":[response.score]\n",
    "    }\n",
    "graph.add_node(\"gen_credibility_depth_feedback\",gen_credibility_depth_feedback)"
   ]
  },
  {
   "cell_type": "markdown",
   "id": "8d56296e",
   "metadata": {},
   "source": [
    "### Node 4 for Overall Feedback"
   ]
  },
  {
   "cell_type": "code",
   "execution_count": 10,
   "id": "2da0fb7b",
   "metadata": {},
   "outputs": [
    {
     "data": {
      "text/plain": [
       "<langgraph.graph.state.StateGraph at 0x1b85b92eba0>"
      ]
     },
     "execution_count": 10,
     "metadata": {},
     "output_type": "execute_result"
    }
   ],
   "source": [
    "def gen_overall_feedback(state:BlogEvaluationState)->BlogEvaluationState:\n",
    "    clarity_structure_feedback=state[\"clarity_structure_feedback\"]\n",
    "    engagement_value_feedback=state[\"engagement_value_feedback\"]\n",
    "    credibility_depth_feedback=state[\"credibility_depth_feedback\"]\n",
    "    template=PromptTemplate(\n",
    "        template=\"\"\"You will be given 3 different feedbacks of a Blog. One is Clarity and Structure Feedback, Second is Engagement and Value Feedback and Third is Credibility and Depth Feedack.\n",
    "        You have to write a summerized feedback that tell the issues and measures that a content writer can take to improve that blog.\n",
    "        The feedbacks are as follows:\n",
    "        Clarity and Structure Feedback: {clarity_structure_feedback}\n",
    "        Engagement and Value Feedback:  {engagement_value_feedback}\n",
    "        Credibility and Depth Feedack:  {credibility_depth_feedback}\n",
    "    \"\"\",\n",
    "    input_variables=[\"clarity_structure_feedback\",\"engagement_value_feedback\",\"credibility_depth_feedback\"]\n",
    "    )\n",
    "    prompt=template.invoke({\n",
    "        \"clarity_structure_feedback\":clarity_structure_feedback,\n",
    "        \"engagement_value_feedback\":engagement_value_feedback,\n",
    "        \"credibility_depth_feedback\":credibility_depth_feedback\n",
    "    })\n",
    "    response=model.invoke(prompt)\n",
    "    score=(sum(state[\"individual_score\"]))/len(state['individual_score'])\n",
    "    return {\n",
    "        \"overall_feedback\":response.content,\n",
    "        \"final_score\":score\n",
    "    }\n",
    "graph.add_node(\"gen_overall_feedback\",gen_overall_feedback)"
   ]
  },
  {
   "cell_type": "markdown",
   "id": "2067ed87",
   "metadata": {},
   "source": [
    "### Defining Graph Edges"
   ]
  },
  {
   "cell_type": "code",
   "execution_count": 11,
   "id": "7fc62348",
   "metadata": {},
   "outputs": [
    {
     "data": {
      "text/plain": [
       "<langgraph.graph.state.StateGraph at 0x1b85b92eba0>"
      ]
     },
     "execution_count": 11,
     "metadata": {},
     "output_type": "execute_result"
    }
   ],
   "source": [
    "graph.add_edge(START,\"gen_clarity_structure_feedback\")\n",
    "graph.add_edge(START,\"gen_engagement_value_feedback\")\n",
    "graph.add_edge(START,\"gen_credibility_depth_feedback\")\n",
    "\n",
    "graph.add_edge(\"gen_clarity_structure_feedback\",\"gen_overall_feedback\")\n",
    "graph.add_edge(\"gen_engagement_value_feedback\",\"gen_overall_feedback\")\n",
    "graph.add_edge(\"gen_credibility_depth_feedback\",\"gen_overall_feedback\")\n",
    "\n",
    "graph.add_edge(\"gen_overall_feedback\",END)"
   ]
  },
  {
   "cell_type": "markdown",
   "id": "0899f478",
   "metadata": {},
   "source": [
    "### Compiling Graph"
   ]
  },
  {
   "cell_type": "code",
   "execution_count": 12,
   "id": "7942d6d9",
   "metadata": {},
   "outputs": [],
   "source": [
    "workflow=graph.compile()"
   ]
  },
  {
   "cell_type": "code",
   "execution_count": 13,
   "id": "6dc17601",
   "metadata": {},
   "outputs": [
    {
     "data": {
      "image/png": "[encoded data removed]",
      "text/plain": [
       "<IPython.core.display.Image object>"
      ]
     },
     "execution_count": 13,
     "metadata": {},
     "output_type": "execute_result"
    }
   ],
   "source": [
    "from IPython.display import Image\n",
    "Image(workflow.get_graph().draw_mermaid_png())"
   ]
  },
  {
   "cell_type": "code",
   "execution_count": 14,
   "id": "70a63539",
   "metadata": {},
   "outputs": [],
   "source": [
    "blog=\"\"\"Poverty in Pakistan is a pressing socio-economic issue, deeply rooted in structural inequalities and systemic barriers. Despite economic progress and numerous development initiatives, a significant portion of the Pakistani population continues to live below the poverty line, deprived of basic necessities such as adequate nutrition, education, and healthcare.\n",
    "\n",
    "One of the primary reasons for persistent poverty in Pakistan is income inequality. Wealth distribution is highly skewed, with the richest segments controlling significant resources while vast numbers struggle with minimal income. The rural population, particularly in provinces like Balochistan and Sindh, is disproportionately affected, facing limited access to economic opportunities and public services.\n",
    "\n",
    "Educational disparity is another critical factor contributing to poverty. Limited access to quality education reduces the potential for upward mobility, perpetuating cycles of poverty across generations. Many children from impoverished families either receive no formal education or attend severely underfunded schools, limiting their chances of securing stable, well-paying jobs in adulthood.\n",
    "\n",
    "Healthcare inequality further exacerbates the issue, with poor communities experiencing limited access to quality healthcare facilities. Malnutrition, infectious diseases, and insufficient healthcare services contribute to higher mortality rates and lower life expectancy among the poor, further entrenching economic instability.\n",
    "\n",
    "Government initiatives, such as the Benazir Income Support Programme (BISP) and Ehsaas Program, have aimed to alleviate poverty through cash transfers and social support. However, structural challenges, including corruption, bureaucratic inefficiencies, and inadequate funding, often limit their effectiveness.\n",
    "\n",
    "Addressing poverty in Pakistan requires a multi-dimensional approach: increasing investment in education, improving healthcare infrastructure, promoting equitable economic opportunities, and enhancing governance and transparency. Only through sustained, inclusive growth and targeted interventions can Pakistan hope to significantly reduce poverty and foster economic justice for all citizens.\n",
    "\n",
    "\"\"\""
   ]
  },
  {
   "cell_type": "code",
   "execution_count": 15,
   "id": "483bd67e",
   "metadata": {},
   "outputs": [],
   "source": [
    "final_state=workflow.invoke({\n",
    "    \"blog\":blog\n",
    "})"
   ]
  },
  {
   "cell_type": "code",
   "execution_count": 16,
   "id": "53d2c32c",
   "metadata": {},
   "outputs": [
    {
     "data": {
      "text/plain": [
       "7.0"
      ]
     },
     "execution_count": 16,
     "metadata": {},
     "output_type": "execute_result"
    }
   ],
   "source": [
    "final_state['final_score']"
   ]
  },
  {
   "cell_type": "code",
   "execution_count": 17,
   "id": "a4deaa1c",
   "metadata": {},
   "outputs": [
    {
     "data": {
      "text/markdown": [
       "**Summarized Feedback for Blog Improvement:**\n",
       "\n",
       "The blog addressing poverty in Pakistan serves as a valuable resource but could benefit from several enhancements to improve clarity, engagement, and credibility. \n",
       "\n",
       "1. **Compelling Headline and Engaging Introduction**: Start with a more captivating headline, such as \"Confronting Poverty in Pakistan: Challenges and Solutions,\" to better attract readers. Additionally, the introduction should be slightly more engaging to draw readers in, potentially by posing a thought-provoking question or sharing a striking statistic related to poverty.\n",
       "\n",
       "2. **Stronger Conclusion**: The blog should include a clearer conclusion that summarizes the key points discussed and effectively reinforces the call to action. This will help leave a lasting impression on the readers and encourage them to reflect on the issue.\n",
       "\n",
       "3. **Use of Subheadings**: Incorporating subheadings will improve the blog's organization and readability. This will allow readers to navigate easily through different sections, enhancing their overall experience.\n",
       "\n",
       "4. **Personal Stories and Conversational Tone**: To increase engagement, consider adding personal stories or real-life examples that illustrate the impact of poverty on communities. Adopting a more conversational tone can also make the content accessible to a wider audience beyond just academics or policymakers.\n",
       "\n",
       "5. **Supporting Data and Statistics**: To bolster credibility, include current statistics or data that support the claims made in the blog. This will not only enhance the depth of the analysis but also provide concrete evidence for the arguments presented.\n",
       "\n",
       "By implementing these measures, the content writer can significantly enhance the blog’s clarity, engagement, and credibility, making it a more powerful tool for raising awareness and addressing poverty in Pakistan."
      ],
      "text/plain": [
       "<IPython.core.display.Markdown object>"
      ]
     },
     "metadata": {},
     "output_type": "display_data"
    }
   ],
   "source": [
    "from IPython.display import Markdown, display\n",
    "\n",
    "display(Markdown(final_state['overall_feedback']))\n"
   ]
  }
 ],
 "metadata": {
  "kernelspec": {
   "display_name": "venv",
   "language": "python",
   "name": "python3"
  },
  "language_info": {
   "codemirror_mode": {
    "name": "ipython",
    "version": 3
   },
   "file_extension": ".py",
   "mimetype": "text/x-python",
   "name": "python",
   "nbconvert_exporter": "python",
   "pygments_lexer": "ipython3",
   "version": "3.13.5"
  }
 },
 "nbformat": 4,
 "nbformat_minor": 5
}
