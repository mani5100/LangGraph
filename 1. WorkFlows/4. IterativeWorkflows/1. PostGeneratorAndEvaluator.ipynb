{
 "cells": [
  {
   "cell_type": "code",
   "execution_count": 297,
   "id": "fb36d38c",
   "metadata": {},
   "outputs": [],
   "source": [
    "from langgraph.graph import StateGraph, START, END\n",
    "from langchain_core.messages import HumanMessage, SystemMessage\n",
    "from langchain_openai import ChatOpenAI\n",
    "from langchain_core.prompts import PromptTemplate\n",
    "from dotenv import load_dotenv\n",
    "from typing import TypedDict, Annotated, Literal\n",
    "from pydantic import BaseModel, Field\n",
    "import operator\n",
    "import ipywidgets as widgets\n",
    "from IPython.display import display,Image,Markdown\n"
   ]
  },
  {
   "cell_type": "code",
   "execution_count": 298,
   "id": "f44a5f3b",
   "metadata": {},
   "outputs": [],
   "source": [
    "load_dotenv()\n",
    "post_generator=ChatOpenAI(model=\"gpt-4o-mini\")\n",
    "post_evaluator=ChatOpenAI(model=\"gpt-4o-mini\")\n",
    "post_optimizer=ChatOpenAI(model=\"gpt-4o-mini\")"
   ]
  },
  {
   "cell_type": "code",
   "execution_count": 299,
   "id": "daebc49b",
   "metadata": {},
   "outputs": [],
   "source": [
    "class PostState(TypedDict):\n",
    "    topic:str\n",
    "    final_post:str\n",
    "    evaluation:Literal[\"accepted\",\"needs_improvement\"]\n",
    "    evaluation_feedback:str\n",
    "    iteration_count:Annotated[int,Field(default=0)]\n",
    "    max_iteration:int\n",
    "    post_history:Annotated[list[str],operator.add]\n",
    "    feedback_history:Annotated[list[str],operator.add]"
   ]
  },
  {
   "cell_type": "code",
   "execution_count": 300,
   "id": "74fcbf1b",
   "metadata": {},
   "outputs": [],
   "source": [
    "class EvaluationSchema(BaseModel):\n",
    "    evaluation:Annotated[Literal[\"accepted\",\"needs_improvement\"],Field(description=\"THis tell whether the post need improvement or is accepted.\")]\n",
    "    evaluation_feedback:Annotated[str,Field(description=\"This the the feedback we will get after the evaluation of the post.\")]\n",
    "\n",
    "structured_post_evaluator=post_evaluator.with_structured_output(EvaluationSchema)"
   ]
  },
  {
   "cell_type": "code",
   "execution_count": 301,
   "id": "f5f3e0fb",
   "metadata": {},
   "outputs": [],
   "source": [
    "def generate_post(state:PostState)->PostState:\n",
    "    messages=[\n",
    "        SystemMessage(content=\"\"\"You have to act as LinkedIn content writter. \n",
    "    You will pe provided with the template on which previously linkedIn post were wittren and you have to identify the tone and systax of that post and then You have to generate a new Post following that syntax.\n",
    "    This is my previous post syntax.\n",
    "    📌 LangGraph Learning Journey – Post #2: **Practicing Conditional Workflows**\n",
    "    Continuing my exploration of LangGraph, I decided to dive into conditional workflows — and built an AI Resume Screener to test it out.\n",
    "    It analyzes resumes and job descriptions, checks for tone, qualification match, and red flags, and then routes each application through different decision paths — generating personalized responses based on the outcome.\n",
    "    Through this project, I got hands-on with:\n",
    "    - Conditional edges and branching logic\n",
    "    - State schema design for variable input\n",
    "    - Multi-step decisions using LLMs\n",
    "    Still early in the journey, but each small build is a new step forward. Always learning, always iterating. 🚀\n",
    "    🎥 I’ve made a quick video demo (posting it with this).\n",
    "    📂 GitHub: https://rebrand.ly/5brlgjh\n",
    "    If you’re working with LangGraph, agentic flows, or LLM tools, let’s connect!\n",
    "    hashtag#LangGraph hashtag#LangChain hashtag#AI hashtag#LLMs hashtag#AgenticWorkflows hashtag#LearningInPublic hashtag#GrowthMindset hashtag#ResumeScreening hashtag#OpenAI \"\"\"),\n",
    "            HumanMessage(content=f\"\"\"\n",
    "    Write a linkedIn post following the template. In this topic you will be provided with the post number, and what is the work he has done. and you have to make the Linkedin post.\n",
    "    Topic: {state['topic']}\n",
    "\n",
    "    \"\"\")]\n",
    "    response=post_generator.invoke(messages)\n",
    "    \n",
    "    return {\n",
    "        \"final_post\":response.content,\n",
    "        \"post_history\":[response.content]\n",
    "    }\n"
   ]
  },
  {
   "cell_type": "code",
   "execution_count": 302,
   "id": "b7525642",
   "metadata": {},
   "outputs": [],
   "source": [
    "def evaluate_post(state:PostState)->PostState:\n",
    "    template=PromptTemplate(\n",
    "        template=\"\"\"\n",
    "You will be provided with 2 posts. First one is the previous post that I did on linkedIn and sencond is the fresh generated post.\n",
    "What you have to do is to evaluate the post based on the systax of post 1. If the post is accurate you have to provide outout as follows:\n",
    "- Evaluation: accepted\n",
    "- evaluation_feedback: The feedback why you accepted this post. \n",
    "But is the post you made is not good the you have to give output as follows:\n",
    "- Evaluation: needs_improvement\n",
    "- evaluation_feedback: The detailed feedback which can help to make this post to get accepted according to the given criteria.\n",
    "Post 1 syntax:\n",
    "    📌 LangGraph Learning Journey – Post #2: Practicing Conditional Workflows\n",
    "    Continuing my exploration of LangGraph, I decided to dive into conditional workflows — and built an AI Resume Screener to test it out.\n",
    "    It analyzes resumes and job descriptions, checks for tone, qualification match, and red flags, and then routes each application through different decision paths — generating personalized responses based on the outcome.\n",
    "    Through this project, I got hands-on with:\n",
    "    - Conditional edges and branching logic\n",
    "    - State schema design for variable input\n",
    "    - Multi-step decisions using LLMs\n",
    "    Still early in the journey, but each small build is a new step forward. Always learning, always iterating. 🚀\n",
    "    🎥 I’ve made a quick video demo (posting it with this).\n",
    "    📂 GitHub: https://rebrand.ly/5brlgjh\n",
    "    If you’re working with LangGraph, agentic flows, or LLM tools, let’s connect!\n",
    "    hashtag#LangGraph hashtag#LangChain hashtag#AI hashtag#LLMs hashtag#AgenticWorkflows hashtag#LearningInPublic hashtag#GrowthMindset hashtag#ResumeScreening hashtag#OpenAI\n",
    "Fresh Generated Post:\n",
    "    {post}\n",
    "\n",
    "**Important Note**: \n",
    "- If the post start doesn't mention what i am practicing and mentions the tool i have made. You have to reject that post.\n",
    "- If the post length exceeds from 150 words reject it. \n",
    "- If the content tone of generated is different from the given post then also reject it.\n",
    "- using same tone is very necessary. Make a seperate portion in feedback so that the tone and syntax of the post doesn't change\n",
    "\"\"\",input_variables=[\"post\"]\n",
    "    )\n",
    "    chain=template|structured_post_evaluator\n",
    "    response=chain.invoke({\n",
    "        \"post\":state[\"final_post\"]\n",
    "    })\n",
    "    return {\n",
    "        \"evaluation\":response.evaluation,\n",
    "        \"evaluation_feedback\":response.evaluation_feedback,\n",
    "        \"feedback_history\":[response.evaluation_feedback]\n",
    "    }"
   ]
  },
  {
   "cell_type": "code",
   "execution_count": 303,
   "id": "9d61dde6",
   "metadata": {},
   "outputs": [],
   "source": [
    "def post_router(state:PostState)->Literal['accepted','needs_improvement']:\n",
    "    if state['iteration_count']>=state[\"max_iteration\"] or state['evaluation']==\"accepted\":\n",
    "        return \"accepted\"\n",
    "    else:\n",
    "        return \"needs_improvement\""
   ]
  },
  {
   "cell_type": "code",
   "execution_count": 304,
   "id": "12e53089",
   "metadata": {},
   "outputs": [],
   "source": [
    "def optimize_post(state:PostState)->PostState:\n",
    "    prompt=PromptTemplate(\n",
    "        template=\"\"\"\n",
    "    You will be provided with the post that was previously rejeceted due to some flaws and also with the feedack that can help you to regenerate the post that falls of the criteria. \n",
    "    You have to generate the new post.\n",
    "\n",
    "    Post: {post}\n",
    "    Feedback provided: {feedback}\n",
    "\n",
    "\"\"\",input_variables=['post','feedback']\n",
    "    )\n",
    "    chain=prompt|post_optimizer\n",
    "    response=chain.invoke({\n",
    "        \"post\":state['final_post'],\n",
    "        \"feedback\":state[\"evaluation_feedback\"]\n",
    "    })\n",
    "    return{\n",
    "        \"final_post\":response.content,\n",
    "        \"post_history\":[response.content],\n",
    "        \"iteration_count\":state[\"iteration_count\"]+1\n",
    "    }"
   ]
  },
  {
   "cell_type": "code",
   "execution_count": 305,
   "id": "50744e26",
   "metadata": {},
   "outputs": [
    {
     "data": {
      "text/plain": [
       "<langgraph.graph.state.StateGraph at 0x217e4c31590>"
      ]
     },
     "execution_count": 305,
     "metadata": {},
     "output_type": "execute_result"
    }
   ],
   "source": [
    "graph=StateGraph(PostState)\n",
    "graph.add_node(generate_post,\"generate_post\")\n",
    "graph.add_node(evaluate_post,\"evaluate_post\")\n",
    "graph.add_node(optimize_post,\"optimize_post\")\n",
    "\n",
    "graph.add_edge(START,\"generate_post\")\n",
    "graph.add_edge(\"generate_post\",\"evaluate_post\")\n",
    "graph.add_conditional_edges(\"evaluate_post\",post_router,{\"accepted\":END,\"needs_improvement\":\"optimize_post\"})\n",
    "graph.add_edge(\"optimize_post\",\"evaluate_post\")"
   ]
  },
  {
   "cell_type": "code",
   "execution_count": 306,
   "id": "6b96e0e8",
   "metadata": {},
   "outputs": [],
   "source": [
    "workflow=graph.compile()"
   ]
  },
  {
   "cell_type": "code",
   "execution_count": 307,
   "id": "a47a9fc2",
   "metadata": {},
   "outputs": [
    {
     "data": {
      "image/png": "[encoded data removed]",
      "text/plain": [
       "<IPython.core.display.Image object>"
      ]
     },
     "execution_count": 307,
     "metadata": {},
     "output_type": "execute_result"
    }
   ],
   "source": [
    "Image(workflow.get_graph().draw_mermaid_png())"
   ]
  },
  {
   "cell_type": "markdown",
   "id": "c0f00354",
   "metadata": {},
   "source": []
  },
  {
   "cell_type": "code",
   "execution_count": 308,
   "id": "b1af7c64",
   "metadata": {},
   "outputs": [
    {
     "data": {
      "application/vnd.jupyter.widget-view+json": {
       "model_id": "3a05f67d28b74fcabfdd9cd2884f2610",
       "version_major": 2,
       "version_minor": 0
      },
      "text/plain": [
       "Textarea(value='', description='Enter Topic with its description:', layout=Layout(height='200px', width='800px…"
      ]
     },
     "metadata": {},
     "output_type": "display_data"
    },
    {
     "data": {
      "application/vnd.jupyter.widget-view+json": {
       "model_id": "a81536cc998248ecb62a840dba1b9fba",
       "version_major": 2,
       "version_minor": 0
      },
      "text/plain": [
       "Button(description='Submit', style=ButtonStyle())"
      ]
     },
     "metadata": {},
     "output_type": "display_data"
    }
   ],
   "source": [
    "text_area = widgets.Textarea(\n",
    "    placeholder='Type your input here',\n",
    "    description='Enter Topic with its description:',\n",
    "    layout=widgets.Layout(width='800px', height='200px')\n",
    ")\n",
    "\n",
    "display(text_area)\n",
    "\n",
    "user_input = \"\"\n",
    "def get_input(b):\n",
    "    global user_input\n",
    "    user_input = text_area.value\n",
    "button = widgets.Button(description=\"Submit\")\n",
    "display(button)\n",
    "\n",
    "button.on_click(get_input)\n"
   ]
  },
  {
   "cell_type": "code",
   "execution_count": 309,
   "id": "b8d4165c",
   "metadata": {},
   "outputs": [],
   "source": [
    "final_state=workflow.invoke({\n",
    "    \"topic\":user_input,\n",
    "    \"max_iteration\":3,\n",
    "    \"iteration_count\":0\n",
    "})"
   ]
  },
  {
   "cell_type": "code",
   "execution_count": 310,
   "id": "0ce4bbd9",
   "metadata": {},
   "outputs": [
    {
     "data": {
      "text/markdown": [
       "📌 LangGraph Learning Journey – Post #3: **Exploring Iterative Workflows**\n",
       "\n",
       "Today, my focus was on enhancing my skills in content creation through iterative workflows. I practiced building a Linked Post Generator that creates topic-specific posts and evaluates them using feedback from another AI model.\n",
       "\n",
       "Here's how it works: If the post meets the criteria, it’s complete; if not, it goes into an optimization phase. This cycle leads to continuous improvement and valuable insights.\n",
       "\n",
       "In this process, I've been utilizing:\n",
       "- Iterative edges for seamless development\n",
       "- One-shot prompting for fast drafts\n",
       "- Tree of thought prompting for innovative ideas\n",
       "\n",
       "I'm thrilled to keep evolving in this journey! 🚀\n",
       "\n",
       "📂 GitHub: [Your GitHub Link Here]\n",
       "\n",
       "If you're interested in iterative workflows, feel free to reach out!\n",
       "\n",
       "#LangGraph #AI #IterativeWorkflows #LearningInPublic #ContentCreation"
      ],
      "text/plain": [
       "<IPython.core.display.Markdown object>"
      ]
     },
     "execution_count": 310,
     "metadata": {},
     "output_type": "execute_result"
    }
   ],
   "source": [
    "Markdown(final_state['final_post'])"
   ]
  },
  {
   "cell_type": "code",
   "execution_count": 311,
   "id": "b3257e0b",
   "metadata": {},
   "outputs": [
    {
     "data": {
      "text/plain": [
       "3"
      ]
     },
     "execution_count": 311,
     "metadata": {},
     "output_type": "execute_result"
    }
   ],
   "source": [
    "final_state['iteration_count']"
   ]
  }
 ],
 "metadata": {
  "kernelspec": {
   "display_name": "venv",
   "language": "python",
   "name": "python3"
  },
  "language_info": {
   "codemirror_mode": {
    "name": "ipython",
    "version": 3
   },
   "file_extension": ".py",
   "mimetype": "text/x-python",
   "name": "python",
   "nbconvert_exporter": "python",
   "pygments_lexer": "ipython3",
   "version": "3.13.5"
  }
 },
 "nbformat": 4,
 "nbformat_minor": 5
}
