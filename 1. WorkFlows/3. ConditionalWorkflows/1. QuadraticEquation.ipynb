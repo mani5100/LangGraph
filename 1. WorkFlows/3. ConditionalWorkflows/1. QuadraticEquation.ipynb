{
 "cells": [
  {
   "cell_type": "code",
   "execution_count": 14,
   "id": "0341845d",
   "metadata": {},
   "outputs": [],
   "source": [
    "from langgraph.graph import StateGraph, START, END\n",
    "from typing import TypedDict,Literal\n",
    "from math import sqrt"
   ]
  },
  {
   "cell_type": "code",
   "execution_count": 15,
   "id": "c6fc0535",
   "metadata": {},
   "outputs": [],
   "source": [
    "class QuadraticEquationState(TypedDict):\n",
    "    a:int\n",
    "    b:int\n",
    "    c:int\n",
    "    equation:str\n",
    "    discriminant:float\n",
    "    results:str"
   ]
  },
  {
   "cell_type": "code",
   "execution_count": 16,
   "id": "d60b719f",
   "metadata": {},
   "outputs": [],
   "source": [
    "graph=StateGraph(QuadraticEquationState)\n",
    "\n",
    "def gen_equation(state:QuadraticEquationState)->QuadraticEquationState:\n",
    "    equation=f\"{state['a']}x^2+{state['b']}x+{state['c']}\"\n",
    "    return {\n",
    "        \"equation\":equation\n",
    "    }\n",
    "def calculate_discriminant(state:QuadraticEquationState)->QuadraticEquationState:\n",
    "    discriminant=(state['b']**2)-(4*state['a']*state['c'])\n",
    "    return {\n",
    "        \"discriminant\":discriminant\n",
    "    }\n",
    "def repeated_roots(state:QuadraticEquationState)->QuadraticEquationState:\n",
    "    root=(-state['b'])/(2*state['a'])\n",
    "    return {\n",
    "        \"results\":f\"The repeated root of Equation is {root}\"\n",
    "    }\n",
    "def two_roots(state:QuadraticEquationState)->QuadraticEquationState:\n",
    "    r1 = ((-state[\"b\"]) + sqrt((state['b']**2) - (4 * state['a'] * state['c']))) / (2 * state['a'])\n",
    "    r2 = ((-state[\"b\"]) - sqrt((state['b']**2) - (4 * state['a'] * state['c']))) / (2 * state['a'])\n",
    "\n",
    "    return {\n",
    "        \"results\":f\"The root of Equation are {r1} and {r2}\"\n",
    "    }\n",
    "def no_roots(state:QuadraticEquationState)->QuadraticEquationState:\n",
    "    return {\n",
    "        \"results\":f\"There is no root for this Equation\"\n",
    "    }\n",
    "\n",
    "def discriminant_condition(state:QuadraticEquationState)->Literal[\"repeated_roots\",\"two_roots\",\"no_roots\"]:\n",
    "    if state['discriminant']>0:\n",
    "        return \"two_roots\"\n",
    "    elif state['discriminant']==0:\n",
    "        return \"repeated_roots\"\n",
    "    else:\n",
    "        return \"no_roots\""
   ]
  },
  {
   "cell_type": "code",
   "execution_count": 17,
   "id": "3a3f44ba",
   "metadata": {},
   "outputs": [
    {
     "data": {
      "text/plain": [
       "<langgraph.graph.state.StateGraph at 0x1b0689ce850>"
      ]
     },
     "execution_count": 17,
     "metadata": {},
     "output_type": "execute_result"
    }
   ],
   "source": [
    "graph.add_node(\"gen_equation\",gen_equation)\n",
    "graph.add_node(\"calculate_discriminant\",calculate_discriminant)\n",
    "graph.add_node(\"repeated_roots\",repeated_roots)\n",
    "graph.add_node(\"two_roots\",two_roots)\n",
    "graph.add_node(\"no_roots\",no_roots)\n"
   ]
  },
  {
   "cell_type": "code",
   "execution_count": 18,
   "id": "1d8eee35",
   "metadata": {},
   "outputs": [
    {
     "data": {
      "text/plain": [
       "<langgraph.graph.state.StateGraph at 0x1b0689ce850>"
      ]
     },
     "execution_count": 18,
     "metadata": {},
     "output_type": "execute_result"
    }
   ],
   "source": [
    "graph.add_edge(START,\"gen_equation\")\n",
    "graph.add_edge(\"gen_equation\",\"calculate_discriminant\")\n",
    "graph.add_conditional_edges(\"calculate_discriminant\",discriminant_condition)\n",
    "graph.add_edge(\"repeated_roots\",END)\n",
    "graph.add_edge(\"two_roots\",END)\n",
    "graph.add_edge(\"no_roots\",END)"
   ]
  },
  {
   "cell_type": "code",
   "execution_count": 19,
   "id": "6d9a8d01",
   "metadata": {},
   "outputs": [],
   "source": [
    "workflow=graph.compile()"
   ]
  },
  {
   "cell_type": "code",
   "execution_count": 20,
   "id": "379423ef",
   "metadata": {},
   "outputs": [
    {
     "data": {
      "image/png": "[encoded data removed]",
      "text/plain": [
       "<IPython.core.display.Image object>"
      ]
     },
     "execution_count": 20,
     "metadata": {},
     "output_type": "execute_result"
    }
   ],
   "source": [
    "from IPython.display import Image\n",
    "Image(workflow.get_graph().draw_mermaid_png())"
   ]
  },
  {
   "cell_type": "code",
   "execution_count": 21,
   "id": "b87195e9",
   "metadata": {},
   "outputs": [],
   "source": [
    "initial_state={\n",
    "    \"a\":1,\n",
    "    \"b\":-5,\n",
    "    \"c\":6\n",
    "}\n",
    "final_state=workflow.invoke(initial_state)"
   ]
  },
  {
   "cell_type": "code",
   "execution_count": 22,
   "id": "52085231",
   "metadata": {},
   "outputs": [
    {
     "name": "stdout",
     "output_type": "stream",
     "text": [
      "{'a': 1, 'b': -5, 'c': 6, 'equation': '1x^2+-5x+6', 'discriminant': 1, 'results': 'The root of Equation are 3.0 and 2.0'}\n"
     ]
    }
   ],
   "source": [
    "print(final_state)"
   ]
  }
 ],
 "metadata": {
  "kernelspec": {
   "display_name": "venv",
   "language": "python",
   "name": "python3"
  },
  "language_info": {
   "codemirror_mode": {
    "name": "ipython",
    "version": 3
   },
   "file_extension": ".py",
   "mimetype": "text/x-python",
   "name": "python",
   "nbconvert_exporter": "python",
   "pygments_lexer": "ipython3",
   "version": "3.13.5"
  }
 },
 "nbformat": 4,
 "nbformat_minor": 5
}
