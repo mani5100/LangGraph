{
 "cells": [
  {
   "cell_type": "code",
   "execution_count": 64,
   "id": "6765f937",
   "metadata": {},
   "outputs": [],
   "source": [
    "from langchain_openai import ChatOpenAI\n",
    "from langgraph.graph import StateGraph,START,END\n",
    "from dotenv import load_dotenv\n",
    "from pydantic import BaseModel, Field\n",
    "from typing import TypedDict,Literal,Annotated\n",
    "from IPython.display import Image,Markdown\n",
    "from langchain.prompts import PromptTemplate"
   ]
  },
  {
   "cell_type": "code",
   "execution_count": 65,
   "id": "f571fb19",
   "metadata": {},
   "outputs": [],
   "source": [
    "load_dotenv()\n",
    "model=ChatOpenAI(model=\"gpt-4o-mini\")"
   ]
  },
  {
   "cell_type": "code",
   "execution_count": 66,
   "id": "0eedae66",
   "metadata": {},
   "outputs": [],
   "source": [
    "class ReviewStateSchema(TypedDict):\n",
    "    review:str\n",
    "    sentiment:Literal['positive','negative']\n",
    "    diagnosis:dict\n",
    "    response:str"
   ]
  },
  {
   "cell_type": "code",
   "execution_count": 67,
   "id": "afb7bfe6",
   "metadata": {},
   "outputs": [],
   "source": [
    "class SentimentSchema(BaseModel):\n",
    "    sentiment:Annotated[Literal['positive','negative'],Field(description=\"Sentiment of the review\")]\n",
    "\n",
    "sentiment_model=model.with_structured_output(SentimentSchema)"
   ]
  },
  {
   "cell_type": "code",
   "execution_count": 68,
   "id": "88c833bb",
   "metadata": {},
   "outputs": [],
   "source": [
    "class DiagnosisSchema(BaseModel):\n",
    "    issue_type:Annotated[Literal[\"UX\",\"Performance\",\"Bug\",\"Support\",\"Other\"],Field(description=\"This is the class under which issue is classified\")]\n",
    "    tone:Annotated[Literal['angry','frustated','disappointed','calm'],Field(description=\"This is the tone of the person who is giving review.\")]\n",
    "    urgency:Annotated[Literal['low','medium','high'],Field(description=\"How urgent or critical the issue is?\")]\n",
    "diagnosis_model=model.with_structured_output(DiagnosisSchema)"
   ]
  },
  {
   "cell_type": "code",
   "execution_count": 69,
   "id": "53ca0d63",
   "metadata": {},
   "outputs": [],
   "source": [
    "def find_sentiment(state:ReviewStateSchema)->ReviewStateSchema:\n",
    "    review=state['review']\n",
    "    template=PromptTemplate(template=\"\"\"\n",
    "    You will be provided with a review you have to give a sentiment on that review as positive or negative.\n",
    "    Review: {review}\n",
    "\"\"\",input_variables=['review'])\n",
    "    chain=template|sentiment_model\n",
    "    review=chain.invoke(review)\n",
    "    return {\n",
    "        \"sentiment\":review.sentiment\n",
    "    }"
   ]
  },
  {
   "cell_type": "code",
   "execution_count": 70,
   "id": "87ed5037",
   "metadata": {},
   "outputs": [],
   "source": [
    "def conditional_flow(state:ReviewStateSchema)->Literal[\"run_diagnosis\",\"response_positive\"]:\n",
    "    if state[\"sentiment\"]=='positive':\n",
    "        return \"response_positive\"\n",
    "    else:\n",
    "        return \"run_diagnosis\""
   ]
  },
  {
   "cell_type": "code",
   "execution_count": 71,
   "id": "c201a7dc",
   "metadata": {},
   "outputs": [],
   "source": [
    "def run_diagnosis(state:ReviewStateSchema)->ReviewStateSchema:\n",
    "    review=state['review']\n",
    "    template=PromptTemplate(template=\"\"\"\n",
    "    You will be provied with the review of negative sentiment. You have to tell the class of issue that reviewer is facing, tone of reviewer and urgency of the issue to be resolved.\n",
    "    Review: {review}\n",
    "    \"\"\",\n",
    "    input_variables=['review'])\n",
    "    chain=template|diagnosis_model\n",
    "    response=chain.invoke(review)\n",
    "    return {\n",
    "        \"diagnosis\":response.model_dump()\n",
    "    }"
   ]
  },
  {
   "cell_type": "code",
   "execution_count": 72,
   "id": "99438b2e",
   "metadata": {},
   "outputs": [],
   "source": [
    "def response_negative(state:ReviewStateSchema)->ReviewStateSchema:\n",
    "    review=state['review']\n",
    "    issue=state['diagnosis']['issue_type']\n",
    "    tone=state['diagnosis']['tone']\n",
    "    urgency=state['diagnosis']['urgency']\n",
    "\n",
    "\n",
    "    prompt=PromptTemplate(template=\"\"\"\n",
    "        You have to act as a customer support agent. You will be given the review of customer and its issue, tone, and urgency of issue.\n",
    "        You have to give appropriate response to that customer. \n",
    "        Review:{review}\n",
    "        Issue:{issue}\n",
    "        Tone:{tone}\n",
    "        Urgency:{urgency}\n",
    "    Do **not** include any name, job title, company name, or contact information in your response.\n",
    "        \"\"\", input_variables=[\"review\",'issue','tone','urgency'])\n",
    "    chain=prompt|model\n",
    "    response=chain.invoke({\n",
    "        \"review\":review,\n",
    "        \"issue\":issue,\n",
    "        \"tone\":tone,\n",
    "        \"urgency\":urgency\n",
    "    })\n",
    "    return {\n",
    "        \"response\":response.content\n",
    "    }"
   ]
  },
  {
   "cell_type": "code",
   "execution_count": 73,
   "id": "74fe2ec8",
   "metadata": {},
   "outputs": [],
   "source": [
    "def response_positive(state:ReviewStateSchema)->ReviewStateSchema:\n",
    "    review=state[\"review\"]\n",
    "    prompt=PromptTemplate(template=\"\"\"\n",
    "You are a customer support representative. A customer has left a positive review. Your job is to write a warm and professional response that:\n",
    "\n",
    "- Thanks the customer\n",
    "- Acknowledges what they liked\n",
    "- Reinforces the positive experience\n",
    "- Encourages them to return or recommend us\n",
    "Do **not** include any name, job title, company name, or contact information in your response.\n",
    "                          \n",
    "Here is the review:\n",
    "\"{review}\"\n",
    "\"\"\", input_variables=['review'])\n",
    "    chain=prompt|model\n",
    "    response=chain.invoke({\n",
    "        \"review\":review\n",
    "    })\n",
    "    return {\n",
    "        \"response\":response.content\n",
    "    }"
   ]
  },
  {
   "cell_type": "code",
   "execution_count": 74,
   "id": "d51e8348",
   "metadata": {},
   "outputs": [
    {
     "data": {
      "text/plain": [
       "<langgraph.graph.state.StateGraph at 0x19433eb2b10>"
      ]
     },
     "execution_count": 74,
     "metadata": {},
     "output_type": "execute_result"
    }
   ],
   "source": [
    "graph=StateGraph(ReviewStateSchema)\n",
    "graph.add_node(\"find_sentiment\",find_sentiment)\n",
    "graph.add_node(\"response_positive\",response_positive)\n",
    "graph.add_node(\"run_diagnosis\",run_diagnosis)\n",
    "graph.add_node(\"response_negative\",response_negative)\n",
    "\n",
    "graph.add_edge(START,\"find_sentiment\")\n",
    "graph.add_conditional_edges(\"find_sentiment\",conditional_flow)\n",
    "graph.add_edge(\"run_diagnosis\",\"response_negative\")\n",
    "graph.add_edge(\"response_negative\",END)\n",
    "graph.add_edge(\"response_positive\",END)"
   ]
  },
  {
   "cell_type": "code",
   "execution_count": 75,
   "id": "dfe789f5",
   "metadata": {},
   "outputs": [],
   "source": [
    "workflow=graph.compile()"
   ]
  },
  {
   "cell_type": "code",
   "execution_count": 76,
   "id": "bc92e368",
   "metadata": {},
   "outputs": [
    {
     "data": {
      "image/png": "[encoded data removed]",
      "text/plain": [
       "<IPython.core.display.Image object>"
      ]
     },
     "execution_count": 76,
     "metadata": {},
     "output_type": "execute_result"
    }
   ],
   "source": [
    "Image(workflow.get_graph().draw_mermaid_png())"
   ]
  },
  {
   "cell_type": "code",
   "execution_count": 77,
   "id": "c39eb76e",
   "metadata": {},
   "outputs": [
    {
     "data": {
      "text/markdown": [
       "Thank you so much for your wonderful feedback! We're thrilled to hear that you found our checkout process easy and that your order arrived quickly. Providing a seamless experience is our top priority, and it’s great to know we met your expectations. We truly appreciate your support and hope to see you back soon. Feel free to recommend us to your friends and family!"
      ],
      "text/plain": [
       "<IPython.core.display.Markdown object>"
      ]
     },
     "execution_count": 77,
     "metadata": {},
     "output_type": "execute_result"
    }
   ],
   "source": [
    "positive_review=\"Absolutely love how easy the checkout process was and how quickly my order arrived. Fantastic service!\"\n",
    "response=workflow.invoke({\n",
    "    'review':positive_review\n",
    "})\n",
    "Markdown(response['response'])"
   ]
  },
  {
   "cell_type": "code",
   "execution_count": 78,
   "id": "a37e5f0e",
   "metadata": {},
   "outputs": [
    {
     "data": {
      "text/markdown": [
       "I completely understand how frustrating it must be to deal with constant app crashes while trying to log in, especially without any support for the past few days. We sincerely apologize for the inconvenience this has caused you. \n",
       "\n",
       "Please know that we are prioritizing this issue and will work to resolve it as quickly as possible. In the meantime, to help us troubleshoot the problem more effectively, could you please provide details about your device and the app version you are using? Your feedback is invaluable, and we're committed to getting this fixed for you promptly. Thank you for your patience!"
      ],
      "text/plain": [
       "<IPython.core.display.Markdown object>"
      ]
     },
     "execution_count": 78,
     "metadata": {},
     "output_type": "execute_result"
    }
   ],
   "source": [
    "negative_review=\"The app crashes every time I try to log in, and I haven't received any support for three days. This is really frustrating!\"\n",
    "response2=workflow.invoke({\n",
    "    'review':negative_review\n",
    "})\n",
    "Markdown(response2['response'])"
   ]
  }
 ],
 "metadata": {
  "kernelspec": {
   "display_name": "venv",
   "language": "python",
   "name": "python3"
  },
  "language_info": {
   "codemirror_mode": {
    "name": "ipython",
    "version": 3
   },
   "file_extension": ".py",
   "mimetype": "text/x-python",
   "name": "python",
   "nbconvert_exporter": "python",
   "pygments_lexer": "ipython3",
   "version": "3.13.5"
  }
 },
 "nbformat": 4,
 "nbformat_minor": 5
}
