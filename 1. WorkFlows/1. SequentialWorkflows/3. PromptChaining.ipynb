{
 "cells": [
  {
   "cell_type": "code",
   "execution_count": 16,
   "id": "a2944cf9",
   "metadata": {},
   "outputs": [],
   "source": [
    "from langchain_openai import ChatOpenAI\n",
    "from dotenv import load_dotenv\n",
    "from langgraph.graph import StateGraph, START, END\n",
    "from typing import TypedDict"
   ]
  },
  {
   "cell_type": "code",
   "execution_count": 17,
   "id": "d60f37df",
   "metadata": {},
   "outputs": [],
   "source": [
    "load_dotenv()\n",
    "model=ChatOpenAI()"
   ]
  },
  {
   "cell_type": "code",
   "execution_count": 18,
   "id": "7c611784",
   "metadata": {},
   "outputs": [],
   "source": [
    "class PCState(TypedDict):\n",
    "    topic:str\n",
    "    outline:str\n",
    "    blog:str"
   ]
  },
  {
   "cell_type": "code",
   "execution_count": 19,
   "id": "adb6d049",
   "metadata": {},
   "outputs": [],
   "source": [
    "def gen_outline(state:PCState)->PCState:\n",
    "    topic=state['topic']\n",
    "    prompt=f\"\"\"You have to act as a professional Content Strategist and you have to generate the outline of the topic.\n",
    "    The topic is {topic}\"\"\"\n",
    "    response=model.invoke(prompt)\n",
    "    state['outline']=response.content\n",
    "    return state\n",
    "def gen_blog(state:PCState)->PCState:\n",
    "    outline=state['outline']\n",
    "    title=state['topic']\n",
    "    prompt=f\"\"\"Given the following title and outline you have to make act as a professional content writter and write a blog on that.\n",
    "    title: {title}\n",
    "    outline: {outline}\"\"\"\n",
    "    response=model.invoke(prompt)\n",
    "    state['blog']=response.content\n",
    "    return state"
   ]
  },
  {
   "cell_type": "code",
   "execution_count": 20,
   "id": "64f543c8",
   "metadata": {},
   "outputs": [],
   "source": [
    "graph=StateGraph(PCState)\n",
    "graph.add_node(\"gen_outline\",gen_outline)\n",
    "graph.add_node(\"gen_blog\",gen_blog)\n",
    "graph.add_edge(START,\"gen_outline\")\n",
    "graph.add_edge(\"gen_outline\",\"gen_blog\")\n",
    "graph.add_edge(\"gen_blog\",END)\n",
    "workflow=graph.compile()"
   ]
  },
  {
   "cell_type": "code",
   "execution_count": 21,
   "id": "b2b0329b",
   "metadata": {},
   "outputs": [
    {
     "data": {
      "image/png": "[encoded data removed]",
      "text/plain": [
       "<IPython.core.display.Image object>"
      ]
     },
     "execution_count": 21,
     "metadata": {},
     "output_type": "execute_result"
    }
   ],
   "source": [
    "from IPython.display import Image\n",
    "Image(workflow.get_graph().draw_mermaid_png())"
   ]
  },
  {
   "cell_type": "code",
   "execution_count": 22,
   "id": "baa0268b",
   "metadata": {},
   "outputs": [
    {
     "name": "stdout",
     "output_type": "stream",
     "text": [
      "{'topic': 'Life in Pakistan', 'outline': \"I. Introduction\\n    A. Brief overview of Pakistan\\n    B. Importance of understanding life in Pakistan\\n\\nII. Geography and Climate\\n    A. Overview of Pakistan's geographical features\\n    B. Description of different regions and their topography\\n    C. Climate variations across the country\\n\\nIII. Cultural Diversity\\n    A. Ethnolinguistic groups in Pakistan\\n    B. Major cultural festivals and celebrations\\n    C. Traditional food and cuisine\\n    D. Importance of religion in Pakistani culture\\n\\nIV. Social Structure\\n    A. Family dynamics and importance of kinship\\n    B. Education system and literacy rates\\n    C. Healthcare infrastructure and challenges\\n    D. Gender roles and women empowerment initiatives\\n\\nV. Economy and Industry\\n    A. Overview of Pakistan's economy\\n    B. Major industries and economic contributors\\n    C. Unemployment rates and poverty levels\\n    D. Challenges and opportunities for economic growth\\n\\nVI. Political Landscape\\n    A. Brief history of Pakistani politics\\n    B. Major political parties and their ideologies\\n    C. Role of military in politics\\n    D. Foreign relations and diplomatic challenges\\n\\nVII. Media and Communication\\n    A. Overview of media landscape in Pakistan\\n    B. Freedom of press and censorship issues\\n    C. Impact of social media and technology on society\\n\\nVIII. Future Outlook\\n    A. Challenges and opportunities for Pakistan's development\\n    B. Potential areas for growth and improvement\\n    C. Role of youth in shaping the future of Pakistan\\n\\nIX. Conclusion\\n    A. Recap of key points about life in Pakistan\\n    B. Importance of understanding and appreciating Pakistan's diverse culture and society\\n\\nThis outline can serve as a guide for creating a comprehensive and informative piece on the topic of life in Pakistan.\", 'blog': \"Blog: Life in Pakistan\\n\\nIntroduction:\\n\\nPakistan is a country rich in history, culture, and diversity. Understanding life in Pakistan is essential to gaining a deeper appreciation for its people and society. In this blog, we will explore various aspects of life in Pakistan, including geography, culture, social structure, economy, politics, media, and the future outlook of the country.\\n\\nGeography and Climate:\\n\\nPakistan's geographical features range from the towering peaks of the Himalayas in the north to the vast deserts of Thar in the south. The country is divided into different regions with diverse topography, ranging from mountains, plains, and valleys. The climate variations across Pakistan are significant, with regions experiencing extremes of temperature and weather patterns.\\n\\nCultural Diversity:\\n\\nPakistan is home to a variety of ethnolinguistic groups, each with its own unique traditions and customs. Major cultural festivals and celebrations, such as Eid, Basant, and Diwali, showcase the rich tapestry of Pakistani culture. Traditional food and cuisine are an integral part of Pakistani identity, with dishes like biryani, kebabs, and chaat being popular across the country. Religion also plays a significant role in Pakistani culture, with Islam serving as a unifying force for many Pakistanis.\\n\\nSocial Structure:\\n\\nFamily dynamics and the importance of kinship are central to Pakistani society, with extended families often living together and providing support to one another. The education system in Pakistan faces challenges such as low literacy rates and inadequate infrastructure, while the healthcare system struggles to meet the needs of the population. Gender roles and women empowerment initiatives are also topics of importance in Pakistan, with efforts being made to promote gender equality and empower women in various sectors.\\n\\nEconomy and Industry:\\n\\nPakistan's economy is diverse, with major industries including textiles, agriculture, and manufacturing. However, the country also faces high unemployment rates and poverty levels. Challenges and opportunities for economic growth exist, with the potential for improvement in areas such as infrastructure, investment, and trade.\\n\\nPolitical Landscape:\\n\\nThe history of Pakistani politics is complex, with various political parties and ideologies shaping the country's governance. The role of the military in politics has been significant, with the armed forces exerting influence over government affairs. Foreign relations and diplomatic challenges also play a role in shaping Pakistan's political landscape.\\n\\nMedia and Communication:\\n\\nThe media landscape in Pakistan is diverse, with a mix of print, broadcast, and online outlets. Freedom of the press is an ongoing issue, with censorship and restrictions on the media being common. The impact of social media and technology on society is also significant, with platforms like Facebook and Twitter playing a role in shaping public discourse.\\n\\nFuture Outlook:\\n\\nPakistan faces challenges and opportunities for development in various sectors, including education, healthcare, and infrastructure. Potential areas for growth and improvement exist, and the role of youth in shaping the country's future is vital. Understanding and appreciating Pakistan's diverse culture and society is essential for progress and development.\\n\\nIn conclusion, life in Pakistan is a multifaceted and complex tapestry of geography, culture, society, and politics. By delving into the various aspects of Pakistani life, we can gain a deeper appreciation for this vibrant and diverse country. It is through understanding and embracing Pakistan's rich heritage that we can work towards a brighter future for all its people.\"}\n"
     ]
    }
   ],
   "source": [
    "initial_state={\n",
    "    \"topic\":\"Life in Pakistan\"\n",
    "}\n",
    "output_state=workflow.invoke(initial_state)\n",
    "print(output_state)"
   ]
  },
  {
   "cell_type": "code",
   "execution_count": 23,
   "id": "3f6c212b",
   "metadata": {},
   "outputs": [
    {
     "name": "stdout",
     "output_type": "stream",
     "text": [
      "I. Introduction\n",
      "    A. Brief overview of Pakistan\n",
      "    B. Importance of understanding life in Pakistan\n",
      "\n",
      "II. Geography and Climate\n",
      "    A. Overview of Pakistan's geographical features\n",
      "    B. Description of different regions and their topography\n",
      "    C. Climate variations across the country\n",
      "\n",
      "III. Cultural Diversity\n",
      "    A. Ethnolinguistic groups in Pakistan\n",
      "    B. Major cultural festivals and celebrations\n",
      "    C. Traditional food and cuisine\n",
      "    D. Importance of religion in Pakistani culture\n",
      "\n",
      "IV. Social Structure\n",
      "    A. Family dynamics and importance of kinship\n",
      "    B. Education system and literacy rates\n",
      "    C. Healthcare infrastructure and challenges\n",
      "    D. Gender roles and women empowerment initiatives\n",
      "\n",
      "V. Economy and Industry\n",
      "    A. Overview of Pakistan's economy\n",
      "    B. Major industries and economic contributors\n",
      "    C. Unemployment rates and poverty levels\n",
      "    D. Challenges and opportunities for economic growth\n",
      "\n",
      "VI. Political Landscape\n",
      "    A. Brief history of Pakistani politics\n",
      "    B. Major political parties and their ideologies\n",
      "    C. Role of military in politics\n",
      "    D. Foreign relations and diplomatic challenges\n",
      "\n",
      "VII. Media and Communication\n",
      "    A. Overview of media landscape in Pakistan\n",
      "    B. Freedom of press and censorship issues\n",
      "    C. Impact of social media and technology on society\n",
      "\n",
      "VIII. Future Outlook\n",
      "    A. Challenges and opportunities for Pakistan's development\n",
      "    B. Potential areas for growth and improvement\n",
      "    C. Role of youth in shaping the future of Pakistan\n",
      "\n",
      "IX. Conclusion\n",
      "    A. Recap of key points about life in Pakistan\n",
      "    B. Importance of understanding and appreciating Pakistan's diverse culture and society\n",
      "\n",
      "This outline can serve as a guide for creating a comprehensive and informative piece on the topic of life in Pakistan.\n"
     ]
    }
   ],
   "source": [
    "print(output_state['outline'])"
   ]
  },
  {
   "cell_type": "code",
   "execution_count": 24,
   "id": "d03e97fa",
   "metadata": {},
   "outputs": [
    {
     "name": "stdout",
     "output_type": "stream",
     "text": [
      "Blog: Life in Pakistan\n",
      "\n",
      "Introduction:\n",
      "\n",
      "Pakistan is a country rich in history, culture, and diversity. Understanding life in Pakistan is essential to gaining a deeper appreciation for its people and society. In this blog, we will explore various aspects of life in Pakistan, including geography, culture, social structure, economy, politics, media, and the future outlook of the country.\n",
      "\n",
      "Geography and Climate:\n",
      "\n",
      "Pakistan's geographical features range from the towering peaks of the Himalayas in the north to the vast deserts of Thar in the south. The country is divided into different regions with diverse topography, ranging from mountains, plains, and valleys. The climate variations across Pakistan are significant, with regions experiencing extremes of temperature and weather patterns.\n",
      "\n",
      "Cultural Diversity:\n",
      "\n",
      "Pakistan is home to a variety of ethnolinguistic groups, each with its own unique traditions and customs. Major cultural festivals and celebrations, such as Eid, Basant, and Diwali, showcase the rich tapestry of Pakistani culture. Traditional food and cuisine are an integral part of Pakistani identity, with dishes like biryani, kebabs, and chaat being popular across the country. Religion also plays a significant role in Pakistani culture, with Islam serving as a unifying force for many Pakistanis.\n",
      "\n",
      "Social Structure:\n",
      "\n",
      "Family dynamics and the importance of kinship are central to Pakistani society, with extended families often living together and providing support to one another. The education system in Pakistan faces challenges such as low literacy rates and inadequate infrastructure, while the healthcare system struggles to meet the needs of the population. Gender roles and women empowerment initiatives are also topics of importance in Pakistan, with efforts being made to promote gender equality and empower women in various sectors.\n",
      "\n",
      "Economy and Industry:\n",
      "\n",
      "Pakistan's economy is diverse, with major industries including textiles, agriculture, and manufacturing. However, the country also faces high unemployment rates and poverty levels. Challenges and opportunities for economic growth exist, with the potential for improvement in areas such as infrastructure, investment, and trade.\n",
      "\n",
      "Political Landscape:\n",
      "\n",
      "The history of Pakistani politics is complex, with various political parties and ideologies shaping the country's governance. The role of the military in politics has been significant, with the armed forces exerting influence over government affairs. Foreign relations and diplomatic challenges also play a role in shaping Pakistan's political landscape.\n",
      "\n",
      "Media and Communication:\n",
      "\n",
      "The media landscape in Pakistan is diverse, with a mix of print, broadcast, and online outlets. Freedom of the press is an ongoing issue, with censorship and restrictions on the media being common. The impact of social media and technology on society is also significant, with platforms like Facebook and Twitter playing a role in shaping public discourse.\n",
      "\n",
      "Future Outlook:\n",
      "\n",
      "Pakistan faces challenges and opportunities for development in various sectors, including education, healthcare, and infrastructure. Potential areas for growth and improvement exist, and the role of youth in shaping the country's future is vital. Understanding and appreciating Pakistan's diverse culture and society is essential for progress and development.\n",
      "\n",
      "In conclusion, life in Pakistan is a multifaceted and complex tapestry of geography, culture, society, and politics. By delving into the various aspects of Pakistani life, we can gain a deeper appreciation for this vibrant and diverse country. It is through understanding and embracing Pakistan's rich heritage that we can work towards a brighter future for all its people.\n"
     ]
    }
   ],
   "source": [
    "print(output_state['blog'])"
   ]
  }
 ],
 "metadata": {
  "kernelspec": {
   "display_name": "venv",
   "language": "python",
   "name": "python3"
  },
  "language_info": {
   "codemirror_mode": {
    "name": "ipython",
    "version": 3
   },
   "file_extension": ".py",
   "mimetype": "text/x-python",
   "name": "python",
   "nbconvert_exporter": "python",
   "pygments_lexer": "ipython3",
   "version": "3.13.5"
  }
 },
 "nbformat": 4,
 "nbformat_minor": 5
}
