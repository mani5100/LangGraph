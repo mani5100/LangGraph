{
 "cells": [
  {
   "cell_type": "code",
   "execution_count": 17,
   "id": "ddf27230",
   "metadata": {},
   "outputs": [],
   "source": [
    "from langgraph.graph import StateGraph,END,START\n",
    "from langchain_openai import ChatOpenAI\n",
    "from dotenv import load_dotenv\n",
    "from typing import TypedDict"
   ]
  },
  {
   "cell_type": "code",
   "execution_count": 18,
   "id": "422f1db9",
   "metadata": {},
   "outputs": [],
   "source": [
    "load_dotenv()\n",
    "model=ChatOpenAI()"
   ]
  },
  {
   "cell_type": "code",
   "execution_count": 19,
   "id": "9f9d54bc",
   "metadata": {},
   "outputs": [],
   "source": [
    "class LLMState(TypedDict):\n",
    "    question:str\n",
    "    answer:str"
   ]
  },
  {
   "cell_type": "code",
   "execution_count": 20,
   "id": "ca093f9f",
   "metadata": {},
   "outputs": [],
   "source": [
    "graph=StateGraph(LLMState)"
   ]
  },
  {
   "cell_type": "code",
   "execution_count": 21,
   "id": "edb1df86",
   "metadata": {},
   "outputs": [],
   "source": [
    "def llm_node(state:LLMState)->LLMState:\n",
    "    question=state['question']\n",
    "    prompt=f\"Answer the following question. {question}\"\n",
    "    res=model.invoke(prompt)\n",
    "    state['answer']=res.content\n",
    "    return state"
   ]
  },
  {
   "cell_type": "code",
   "execution_count": 22,
   "id": "d76ba5d6",
   "metadata": {},
   "outputs": [],
   "source": [
    "graph.add_node('llm_node',llm_node)\n",
    "graph.add_edge(START,'llm_node')\n",
    "graph.add_edge('llm_node',END)\n",
    "workflow=graph.compile()"
   ]
  },
  {
   "cell_type": "code",
   "execution_count": 23,
   "id": "9a5a7c1d",
   "metadata": {},
   "outputs": [
    {
     "name": "stdout",
     "output_type": "stream",
     "text": [
      "{'question': 'What is capital of pakistan', 'answer': 'The capital of Pakistan is Islamabad.'}\n"
     ]
    }
   ],
   "source": [
    "output=workflow.invoke({\n",
    "    'question':\"What is capital of pakistan\"\n",
    "})\n",
    "print(output)"
   ]
  }
 ],
 "metadata": {
  "kernelspec": {
   "display_name": "venv",
   "language": "python",
   "name": "python3"
  },
  "language_info": {
   "codemirror_mode": {
    "name": "ipython",
    "version": 3
   },
   "file_extension": ".py",
   "mimetype": "text/x-python",
   "name": "python",
   "nbconvert_exporter": "python",
   "pygments_lexer": "ipython3",
   "version": "3.13.5"
  }
 },
 "nbformat": 4,
 "nbformat_minor": 5
}
