{
 "cells": [
  {
   "cell_type": "code",
   "execution_count": 1,
   "id": "41a695f7",
   "metadata": {},
   "outputs": [],
   "source": [
    "from langgraph.graph import StateGraph,START,END\n",
    "from langchain_openai import ChatOpenAI\n",
    "from dotenv import load_dotenv\n",
    "from typing import TypedDict\n",
    "from langgraph.checkpoint.memory import InMemorySaver\n",
    "from IPython.display import Image"
   ]
  },
  {
   "cell_type": "code",
   "execution_count": 2,
   "id": "5645d762",
   "metadata": {},
   "outputs": [],
   "source": [
    "load_dotenv()\n",
    "model=ChatOpenAI()"
   ]
  },
  {
   "cell_type": "code",
   "execution_count": 3,
   "id": "a295b2dd",
   "metadata": {},
   "outputs": [],
   "source": [
    "class StateSchema(TypedDict):\n",
    "    topic:str\n",
    "    joke:str\n",
    "    explanation:str"
   ]
  },
  {
   "cell_type": "code",
   "execution_count": 4,
   "id": "4ab9d346",
   "metadata": {},
   "outputs": [],
   "source": [
    "def generate_joke(state:StateSchema)->StateSchema:\n",
    "    prompt=f\"\"\"\n",
    "    Given the following topic. You have to generate the hilarious joke.\n",
    "    Topic: {state['topic']}\n",
    "\"\"\"\n",
    "    response=model.invoke(prompt)\n",
    "    return {\n",
    "        'joke':response.content\n",
    "    }"
   ]
  },
  {
   "cell_type": "code",
   "execution_count": 5,
   "id": "8b674f08",
   "metadata": {},
   "outputs": [],
   "source": [
    "def generate_explanation(state:StateSchema)->StateSchema:\n",
    "    prompt=f\"\"\"\n",
    "    Given the following Topic and the Joke. You have to generate the explannation of that joke.\n",
    "    Topic: {state['topic']}\n",
    "    Joke: {state['joke']}\n",
    "\"\"\"\n",
    "    response=model.invoke(prompt)\n",
    "    return {\n",
    "        'explanation':response.content\n",
    "    }"
   ]
  },
  {
   "cell_type": "code",
   "execution_count": 6,
   "id": "cccabf4d",
   "metadata": {},
   "outputs": [],
   "source": [
    "graph=StateGraph(StateSchema)\n",
    "graph.add_node(\"generate_joke\",generate_joke)\n",
    "graph.add_node(\"generate_explanation\",generate_explanation)\n",
    "\n",
    "graph.add_edge(START,\"generate_joke\")\n",
    "graph.add_edge(\"generate_joke\",\"generate_explanation\")\n",
    "graph.add_edge(\"generate_explanation\",END)\n",
    "checkpointer=InMemorySaver()\n",
    "workflow=graph.compile(checkpointer=checkpointer)"
   ]
  },
  {
   "cell_type": "code",
   "execution_count": 7,
   "id": "8ae4ace0",
   "metadata": {},
   "outputs": [
    {
     "data": {
      "image/png": "[encoded data removed]",
      "text/plain": [
       "<IPython.core.display.Image object>"
      ]
     },
     "execution_count": 7,
     "metadata": {},
     "output_type": "execute_result"
    }
   ],
   "source": [
    "Image(workflow.get_graph().draw_mermaid_png())"
   ]
  },
  {
   "cell_type": "code",
   "execution_count": 8,
   "id": "4bc74990",
   "metadata": {},
   "outputs": [],
   "source": [
    "config1={\n",
    "    \"configurable\":{\n",
    "        \"thread_id\":1\n",
    "    }\n",
    "}"
   ]
  },
  {
   "cell_type": "code",
   "execution_count": 17,
   "id": "7cbfd2ea",
   "metadata": {},
   "outputs": [],
   "source": [
    "\n",
    "res=workflow.invoke({\n",
    "    \"topic\":\"Pizza\"\n",
    "}, config=config1)"
   ]
  },
  {
   "cell_type": "code",
   "execution_count": 18,
   "id": "0deac740",
   "metadata": {},
   "outputs": [
    {
     "data": {
      "text/plain": [
       "{'topic': 'Pizza',\n",
       " 'joke': 'Why did the pizza apply for a job at the tutoring center?\\nBecause it wanted to become a little more cheesy!',\n",
       " 'explanation': 'Explanation: The joke plays on the idea of \"cheesy\" being a term used to describe something overly sentimental or corny. In this case, the pizza wanting to become \"a little more cheesy\" is a playful way of saying that it wanted to improve its skills or knowledge by working at a tutoring center. The humor comes from the pun on the word \"cheesy\" and the unexpected twist of a pizza applying for a job at a tutoring center.'}"
      ]
     },
     "execution_count": 18,
     "metadata": {},
     "output_type": "execute_result"
    }
   ],
   "source": [
    "res"
   ]
  },
  {
   "cell_type": "code",
   "execution_count": 19,
   "id": "0a26df8f",
   "metadata": {},
   "outputs": [
    {
     "data": {
      "text/plain": [
       "StateSnapshot(values={'topic': 'Pizza', 'joke': 'Why did the pizza apply for a job at the tutoring center?\\nBecause it wanted to become a little more cheesy!', 'explanation': 'Explanation: The joke plays on the idea of \"cheesy\" being a term used to describe something overly sentimental or corny. In this case, the pizza wanting to become \"a little more cheesy\" is a playful way of saying that it wanted to improve its skills or knowledge by working at a tutoring center. The humor comes from the pun on the word \"cheesy\" and the unexpected twist of a pizza applying for a job at a tutoring center.'}, next=(), config={'configurable': {'thread_id': '1', 'checkpoint_ns': '', 'checkpoint_id': '1f07a3c3-845b-67b2-800a-95b22ed6e2b5'}}, metadata={'source': 'loop', 'step': 10, 'parents': {}}, created_at='2025-08-16T00:59:10.920477+00:00', parent_config={'configurable': {'thread_id': '1', 'checkpoint_ns': '', 'checkpoint_id': '1f07a3c3-7364-645a-8009-ca739555f4d8'}}, tasks=(), interrupts=())"
      ]
     },
     "execution_count": 19,
     "metadata": {},
     "output_type": "execute_result"
    }
   ],
   "source": [
    "workflow.get_state(config1)"
   ]
  },
  {
   "cell_type": "code",
   "execution_count": 20,
   "id": "5635749e",
   "metadata": {},
   "outputs": [
    {
     "data": {
      "text/plain": [
       "[StateSnapshot(values={'topic': 'Pizza', 'joke': 'Why did the pizza apply for a job at the tutoring center?\\nBecause it wanted to become a little more cheesy!', 'explanation': 'Explanation: The joke plays on the idea of \"cheesy\" being a term used to describe something overly sentimental or corny. In this case, the pizza wanting to become \"a little more cheesy\" is a playful way of saying that it wanted to improve its skills or knowledge by working at a tutoring center. The humor comes from the pun on the word \"cheesy\" and the unexpected twist of a pizza applying for a job at a tutoring center.'}, next=(), config={'configurable': {'thread_id': '1', 'checkpoint_ns': '', 'checkpoint_id': '1f07a3c3-845b-67b2-800a-95b22ed6e2b5'}}, metadata={'source': 'loop', 'step': 10, 'parents': {}}, created_at='2025-08-16T00:59:10.920477+00:00', parent_config={'configurable': {'thread_id': '1', 'checkpoint_ns': '', 'checkpoint_id': '1f07a3c3-7364-645a-8009-ca739555f4d8'}}, tasks=(), interrupts=()),\n",
       " StateSnapshot(values={'topic': 'Pizza', 'joke': 'Why did the pizza apply for a job at the tutoring center?\\nBecause it wanted to become a little more cheesy!', 'explanation': 'Explanation: The joke plays on the double meaning of the phrase \"on the house.\" In this context, \"on the house\" usually means that the drinks are free or being provided by the establishment. However, the slim guy in the joke brings a ladder to the bar because he takes the phrase literally and thinks that the drinks are physically on top of the bar\\'s roof. Therefore, he brings a ladder in order to climb up and get his free drinks. The humor comes from the misunderstanding and literal interpretation of the phrase.'}, next=('generate_explanation',), config={'configurable': {'thread_id': '1', 'checkpoint_ns': '', 'checkpoint_id': '1f07a3c3-7364-645a-8009-ca739555f4d8'}}, metadata={'source': 'loop', 'step': 9, 'parents': {}}, created_at='2025-08-16T00:59:09.141494+00:00', parent_config={'configurable': {'thread_id': '1', 'checkpoint_ns': '', 'checkpoint_id': '1f07a3c3-5fe9-6280-8008-e95efa044b0a'}}, tasks=(PregelTask(id='4b1749df-bc0a-78d5-15c4-511d0a151d2d', name='generate_explanation', path=('__pregel_pull', 'generate_explanation'), error=None, interrupts=(), state=None, result={'explanation': 'Explanation: The joke plays on the idea of \"cheesy\" being a term used to describe something overly sentimental or corny. In this case, the pizza wanting to become \"a little more cheesy\" is a playful way of saying that it wanted to improve its skills or knowledge by working at a tutoring center. The humor comes from the pun on the word \"cheesy\" and the unexpected twist of a pizza applying for a job at a tutoring center.'}),), interrupts=()),\n",
       " StateSnapshot(values={'topic': 'Pizza', 'joke': 'Why did the slim guy bring a ladder to the bar? \\nBecause he heard the drinks were on the house!', 'explanation': 'Explanation: The joke plays on the double meaning of the phrase \"on the house.\" In this context, \"on the house\" usually means that the drinks are free or being provided by the establishment. However, the slim guy in the joke brings a ladder to the bar because he takes the phrase literally and thinks that the drinks are physically on top of the bar\\'s roof. Therefore, he brings a ladder in order to climb up and get his free drinks. The humor comes from the misunderstanding and literal interpretation of the phrase.'}, next=('generate_joke',), config={'configurable': {'thread_id': '1', 'checkpoint_ns': '', 'checkpoint_id': '1f07a3c3-5fe9-6280-8008-e95efa044b0a'}}, metadata={'source': 'loop', 'step': 8, 'parents': {}}, created_at='2025-08-16T00:59:07.098767+00:00', parent_config={'configurable': {'thread_id': '1', 'checkpoint_ns': '', 'checkpoint_id': '1f07a3c3-5fe6-61bc-8007-a12935cd7742'}}, tasks=(PregelTask(id='dfa92bc5-9dd7-48d4-9524-3b6a45201c31', name='generate_joke', path=('__pregel_pull', 'generate_joke'), error=None, interrupts=(), state=None, result={'joke': 'Why did the pizza apply for a job at the tutoring center?\\nBecause it wanted to become a little more cheesy!'}),), interrupts=()),\n",
       " StateSnapshot(values={'topic': 'slim Guy', 'joke': 'Why did the slim guy bring a ladder to the bar? \\nBecause he heard the drinks were on the house!', 'explanation': 'Explanation: The joke plays on the double meaning of the phrase \"on the house.\" In this context, \"on the house\" usually means that the drinks are free or being provided by the establishment. However, the slim guy in the joke brings a ladder to the bar because he takes the phrase literally and thinks that the drinks are physically on top of the bar\\'s roof. Therefore, he brings a ladder in order to climb up and get his free drinks. The humor comes from the misunderstanding and literal interpretation of the phrase.'}, next=('__start__',), config={'configurable': {'thread_id': '1', 'checkpoint_ns': '', 'checkpoint_id': '1f07a3c3-5fe6-61bc-8007-a12935cd7742'}}, metadata={'source': 'input', 'step': 7, 'parents': {}}, created_at='2025-08-16T00:59:07.097526+00:00', parent_config={'configurable': {'thread_id': '1', 'checkpoint_ns': '', 'checkpoint_id': '1f07a3c1-eca1-6e88-8006-778201dd024d'}}, tasks=(PregelTask(id='6772f482-e884-b0f7-73b4-a298c1a77f34', name='__start__', path=('__pregel_pull', '__start__'), error=None, interrupts=(), state=None, result={'topic': 'Pizza'}),), interrupts=()),\n",
       " StateSnapshot(values={'topic': 'slim Guy', 'joke': 'Why did the slim guy bring a ladder to the bar? \\nBecause he heard the drinks were on the house!', 'explanation': 'Explanation: The joke plays on the double meaning of the phrase \"on the house.\" In this context, \"on the house\" usually means that the drinks are free or being provided by the establishment. However, the slim guy in the joke brings a ladder to the bar because he takes the phrase literally and thinks that the drinks are physically on top of the bar\\'s roof. Therefore, he brings a ladder in order to climb up and get his free drinks. The humor comes from the misunderstanding and literal interpretation of the phrase.'}, next=(), config={'configurable': {'thread_id': '1', 'checkpoint_ns': '', 'checkpoint_id': '1f07a3c1-eca1-6e88-8006-778201dd024d'}}, metadata={'source': 'loop', 'step': 6, 'parents': {}}, created_at='2025-08-16T00:58:28.167424+00:00', parent_config={'configurable': {'thread_id': '1', 'checkpoint_ns': '', 'checkpoint_id': '1f07a3c1-de2e-6cca-8005-9c249b5c2bc4'}}, tasks=(), interrupts=()),\n",
       " StateSnapshot(values={'topic': 'slim Guy', 'joke': 'Why did the slim guy bring a ladder to the bar? \\nBecause he heard the drinks were on the house!', 'explanation': 'Explanation: The joke plays on the stereotype that fat people are always looking for free food or drinks. By bringing a ladder to the bar, the fat guy is jokingly implying that he needs to climb up to reach the \"house\" where the drinks are on offer for free. It\\'s a light-hearted and humorous way to poke fun at the idea of someone taking advantage of a good deal.'}, next=('generate_explanation',), config={'configurable': {'thread_id': '1', 'checkpoint_ns': '', 'checkpoint_id': '1f07a3c1-de2e-6cca-8005-9c249b5c2bc4'}}, metadata={'source': 'loop', 'step': 5, 'parents': {}}, created_at='2025-08-16T00:58:26.652246+00:00', parent_config={'configurable': {'thread_id': '1', 'checkpoint_ns': '', 'checkpoint_id': '1f07a3c1-d2e0-6699-8004-46c4002cd59f'}}, tasks=(PregelTask(id='77b2064c-9fe3-ff08-d47e-3b5ff0da80c1', name='generate_explanation', path=('__pregel_pull', 'generate_explanation'), error=None, interrupts=(), state=None, result={'explanation': 'Explanation: The joke plays on the double meaning of the phrase \"on the house.\" In this context, \"on the house\" usually means that the drinks are free or being provided by the establishment. However, the slim guy in the joke brings a ladder to the bar because he takes the phrase literally and thinks that the drinks are physically on top of the bar\\'s roof. Therefore, he brings a ladder in order to climb up and get his free drinks. The humor comes from the misunderstanding and literal interpretation of the phrase.'}),), interrupts=()),\n",
       " StateSnapshot(values={'topic': 'slim Guy', 'joke': 'Why did the fat guy bring a ladder to the bar?\\nBecause he heard the drinks were on the house!', 'explanation': 'Explanation: The joke plays on the stereotype that fat people are always looking for free food or drinks. By bringing a ladder to the bar, the fat guy is jokingly implying that he needs to climb up to reach the \"house\" where the drinks are on offer for free. It\\'s a light-hearted and humorous way to poke fun at the idea of someone taking advantage of a good deal.'}, next=('generate_joke',), config={'configurable': {'thread_id': '1', 'checkpoint_ns': '', 'checkpoint_id': '1f07a3c1-d2e0-6699-8004-46c4002cd59f'}}, metadata={'source': 'loop', 'step': 4, 'parents': {}}, created_at='2025-08-16T00:58:25.466718+00:00', parent_config={'configurable': {'thread_id': '1', 'checkpoint_ns': '', 'checkpoint_id': '1f07a3c1-d2c5-63f2-8003-12a758285961'}}, tasks=(PregelTask(id='5d0b5f51-9d43-7539-7feb-b53411d746ec', name='generate_joke', path=('__pregel_pull', 'generate_joke'), error=None, interrupts=(), state=None, result={'joke': 'Why did the slim guy bring a ladder to the bar? \\nBecause he heard the drinks were on the house!'}),), interrupts=()),\n",
       " StateSnapshot(values={'topic': 'Fat Guy', 'joke': 'Why did the fat guy bring a ladder to the bar?\\nBecause he heard the drinks were on the house!', 'explanation': 'Explanation: The joke plays on the stereotype that fat people are always looking for free food or drinks. By bringing a ladder to the bar, the fat guy is jokingly implying that he needs to climb up to reach the \"house\" where the drinks are on offer for free. It\\'s a light-hearted and humorous way to poke fun at the idea of someone taking advantage of a good deal.'}, next=('__start__',), config={'configurable': {'thread_id': '1', 'checkpoint_ns': '', 'checkpoint_id': '1f07a3c1-d2c5-63f2-8003-12a758285961'}}, metadata={'source': 'input', 'step': 3, 'parents': {}}, created_at='2025-08-16T00:58:25.455594+00:00', parent_config={'configurable': {'thread_id': '1', 'checkpoint_ns': '', 'checkpoint_id': '1f07a3c1-52b2-65e5-8002-a42268414b20'}}, tasks=(PregelTask(id='8bda027e-c01e-20d3-6ee1-1416ebbadbf3', name='__start__', path=('__pregel_pull', '__start__'), error=None, interrupts=(), state=None, result={'topic': 'slim Guy'}),), interrupts=()),\n",
       " StateSnapshot(values={'topic': 'Fat Guy', 'joke': 'Why did the fat guy bring a ladder to the bar?\\nBecause he heard the drinks were on the house!', 'explanation': 'Explanation: The joke plays on the stereotype that fat people are always looking for free food or drinks. By bringing a ladder to the bar, the fat guy is jokingly implying that he needs to climb up to reach the \"house\" where the drinks are on offer for free. It\\'s a light-hearted and humorous way to poke fun at the idea of someone taking advantage of a good deal.'}, next=(), config={'configurable': {'thread_id': '1', 'checkpoint_ns': '', 'checkpoint_id': '1f07a3c1-52b2-65e5-8002-a42268414b20'}}, metadata={'source': 'loop', 'step': 2, 'parents': {}}, created_at='2025-08-16T00:58:12.026096+00:00', parent_config={'configurable': {'thread_id': '1', 'checkpoint_ns': '', 'checkpoint_id': '1f07a3c1-487d-6afa-8001-02696a282eb5'}}, tasks=(), interrupts=()),\n",
       " StateSnapshot(values={'topic': 'Fat Guy', 'joke': 'Why did the fat guy bring a ladder to the bar?\\nBecause he heard the drinks were on the house!'}, next=('generate_explanation',), config={'configurable': {'thread_id': '1', 'checkpoint_ns': '', 'checkpoint_id': '1f07a3c1-487d-6afa-8001-02696a282eb5'}}, metadata={'source': 'loop', 'step': 1, 'parents': {}}, created_at='2025-08-16T00:58:10.955940+00:00', parent_config={'configurable': {'thread_id': '1', 'checkpoint_ns': '', 'checkpoint_id': '1f07a3c1-3e2f-63fa-8000-913dcccadd2b'}}, tasks=(PregelTask(id='ed862808-10d7-3350-76a0-96103afac5ce', name='generate_explanation', path=('__pregel_pull', 'generate_explanation'), error=None, interrupts=(), state=None, result={'explanation': 'Explanation: The joke plays on the stereotype that fat people are always looking for free food or drinks. By bringing a ladder to the bar, the fat guy is jokingly implying that he needs to climb up to reach the \"house\" where the drinks are on offer for free. It\\'s a light-hearted and humorous way to poke fun at the idea of someone taking advantage of a good deal.'}),), interrupts=()),\n",
       " StateSnapshot(values={'topic': 'Fat Guy'}, next=('generate_joke',), config={'configurable': {'thread_id': '1', 'checkpoint_ns': '', 'checkpoint_id': '1f07a3c1-3e2f-63fa-8000-913dcccadd2b'}}, metadata={'source': 'loop', 'step': 0, 'parents': {}}, created_at='2025-08-16T00:58:09.875234+00:00', parent_config={'configurable': {'thread_id': '1', 'checkpoint_ns': '', 'checkpoint_id': '1f07a3c1-3e2b-6dd8-bfff-f99ca160fa87'}}, tasks=(PregelTask(id='b3e7f735-f37e-f009-fb8d-5833749f6214', name='generate_joke', path=('__pregel_pull', 'generate_joke'), error=None, interrupts=(), state=None, result={'joke': 'Why did the fat guy bring a ladder to the bar?\\nBecause he heard the drinks were on the house!'}),), interrupts=()),\n",
       " StateSnapshot(values={}, next=('__start__',), config={'configurable': {'thread_id': '1', 'checkpoint_ns': '', 'checkpoint_id': '1f07a3c1-3e2b-6dd8-bfff-f99ca160fa87'}}, metadata={'source': 'input', 'step': -1, 'parents': {}}, created_at='2025-08-16T00:58:09.873846+00:00', parent_config=None, tasks=(PregelTask(id='856eedfe-f67a-a69b-eb31-f223e61fd4c1', name='__start__', path=('__pregel_pull', '__start__'), error=None, interrupts=(), state=None, result={'topic': 'Fat Guy'}),), interrupts=())]"
      ]
     },
     "execution_count": 20,
     "metadata": {},
     "output_type": "execute_result"
    }
   ],
   "source": [
    "list(workflow.get_state_history(config1))"
   ]
  }
 ],
 "metadata": {
  "kernelspec": {
   "display_name": "venv",
   "language": "python",
   "name": "python3"
  },
  "language_info": {
   "codemirror_mode": {
    "name": "ipython",
    "version": 3
   },
   "file_extension": ".py",
   "mimetype": "text/x-python",
   "name": "python",
   "nbconvert_exporter": "python",
   "pygments_lexer": "ipython3",
   "version": "3.13.5"
  }
 },
 "nbformat": 4,
 "nbformat_minor": 5
}
